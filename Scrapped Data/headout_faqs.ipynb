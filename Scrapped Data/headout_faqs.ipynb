{
 "cells": [
  {
   "cell_type": "code",
   "execution_count": 95,
   "metadata": {},
   "outputs": [],
   "source": [
    "import requests\n",
    "from bs4 import BeautifulSoup\n",
    "import pandas as pd\n",
    "import regex as re\n",
    "from selenium import webdriver\n",
    "from selenium.webdriver.common.keys import Keys"
   ]
  },
  {
   "cell_type": "code",
   "execution_count": 96,
   "metadata": {},
   "outputs": [],
   "source": [
    "driver = webdriver.Chrome('/Users/aadis/Downloads/chromedriver')"
   ]
  },
  {
   "cell_type": "code",
   "execution_count": 97,
   "metadata": {},
   "outputs": [],
   "source": [
    "driver.get('https://www.headout.com/blog/dubai-guide-questions-answered/')\n"
   ]
  },
  {
   "cell_type": "code",
   "execution_count": 98,
   "metadata": {},
   "outputs": [],
   "source": [
    "questions = driver.find_elements_by_xpath('//div[@class=\"navig\"]')\n"
   ]
  },
  {
   "cell_type": "code",
   "execution_count": 99,
   "metadata": {},
   "outputs": [
    {
     "data": {
      "text/plain": [
       "['https://www.headout.com/blog/dubai-guide-burj-khalifa-questions-answered#burj-1',\n",
       " 'https://www.headout.com/blog/dubai-guide-abu-dhabi-day-trip#abu-1',\n",
       " 'https://www.headout.com/blog/dubai-guide-best-waterpark#waterpark-1',\n",
       " 'https://www.headout.com/blog/dubai-guide-dubai-city-pass#dubaicitypass-1',\n",
       " 'https://www.headout.com/blog/pick-best-dhow-cruise-dubai#1',\n",
       " 'https://www.headout.com/blog/best-desert-safari-dubai#1',\n",
       " 'https://www.headout.com/blog/dubai-skydiving-guide/#skydiving-1']"
      ]
     },
     "execution_count": 99,
     "metadata": {},
     "output_type": "execute_result"
    }
   ],
   "source": [
    "Q= []\n",
    "links = []\n",
    "for q in questions:\n",
    "    link = q.find_element_by_tag_name(\"a\").get_attribute(\"href\")\n",
    "    links.append(link)\n",
    "    data = q.text.split('\\n\\n')\n",
    "    for i in data:\n",
    "        Q.append(i)\n",
    "links"
   ]
  },
  {
   "cell_type": "code",
   "execution_count": null,
   "metadata": {},
   "outputs": [],
   "source": []
  },
  {
   "cell_type": "code",
   "execution_count": null,
   "metadata": {},
   "outputs": [],
   "source": []
  }
 ],
 "metadata": {
  "kernelspec": {
   "display_name": "Python 3",
   "language": "python",
   "name": "python3"
  },
  "language_info": {
   "codemirror_mode": {
    "name": "ipython",
    "version": 3
   },
   "file_extension": ".py",
   "mimetype": "text/x-python",
   "name": "python",
   "nbconvert_exporter": "python",
   "pygments_lexer": "ipython3",
   "version": "3.10.9"
  },
  "orig_nbformat": 4,
  "vscode": {
   "interpreter": {
    "hash": "cdb283ee32332275b742a10f3c63a7f6a18e3d881dd366cb71f19e0f898748c7"
   }
  }
 },
 "nbformat": 4,
 "nbformat_minor": 2
}
