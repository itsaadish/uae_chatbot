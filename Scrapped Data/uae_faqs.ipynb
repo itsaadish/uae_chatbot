{
 "cells": [
  {
   "cell_type": "code",
   "execution_count": 75,
   "metadata": {},
   "outputs": [],
   "source": [
    "import requests\n",
    "from bs4 import BeautifulSoup\n",
    "import pandas as pd\n",
    "import regex as re"
   ]
  },
  {
   "cell_type": "code",
   "execution_count": 76,
   "metadata": {},
   "outputs": [],
   "source": [
    "reponse = requests.get(\"https://u.ae/en/resources/faqs\")\n",
    "soup = BeautifulSoup(reponse.content,\"html.parser\")\n"
   ]
  },
  {
   "cell_type": "code",
   "execution_count": 77,
   "metadata": {},
   "outputs": [],
   "source": [
    "# print(soup)"
   ]
  },
  {
   "cell_type": "code",
   "execution_count": 78,
   "metadata": {},
   "outputs": [],
   "source": [
    "data = soup.find(\"div\",{\"id\":\"accordion\"})\n",
    "category = []\n",
    "for cat in data.find_all(\"div\",{\"class\":\"col-md-12\"}):\n",
    "    category.append(cat.text.strip(\"\\n\"))\n",
    "\n",
    "questions = []\n",
    "\n",
    "for cat in data.find_all(\"div\",{\"class\":\"panel-heading\"}):\n",
    "    myString = cat.text\n",
    "    myString = myString.strip(\"\\n\\n\\n\\r\\n \")\n",
    "    questions.append(myString)\n",
    "\n",
    "answers = []\n",
    "\n",
    "for cat in data.find_all(\"div\",{\"class\":\"panel-collapse\"}):\n",
    "    myString = cat.text\n",
    "    myString = myString.strip(\"\\n\\n\\n\\r\\n \")\n",
    "    answers.append(myString)\n"
   ]
  },
  {
   "cell_type": "code",
   "execution_count": 82,
   "metadata": {},
   "outputs": [
    {
     "ename": "TypeError",
     "evalue": "expected 0 arguments, got 1",
     "output_type": "error",
     "traceback": [
      "\u001b[1;31m---------------------------------------------------------------------------\u001b[0m",
      "\u001b[1;31mTypeError\u001b[0m                                 Traceback (most recent call last)",
      "Cell \u001b[1;32mIn[82], line 1\u001b[0m\n\u001b[1;32m----> 1\u001b[0m \u001b[39mprint\u001b[39m(\u001b[39mlen\u001b[39;49m([\u001b[39m\"\u001b[39;49m\u001b[39m1\u001b[39;49m\u001b[39m\"\u001b[39;49m]))\n",
      "\u001b[1;31mTypeError\u001b[0m: expected 0 arguments, got 1"
     ]
    }
   ],
   "source": [
    "print(len([\"1\"]))"
   ]
  },
  {
   "cell_type": "code",
   "execution_count": null,
   "metadata": {},
   "outputs": [],
   "source": []
  }
 ],
 "metadata": {
  "kernelspec": {
   "display_name": "Python 3",
   "language": "python",
   "name": "python3"
  },
  "language_info": {
   "codemirror_mode": {
    "name": "ipython",
    "version": 3
   },
   "file_extension": ".py",
   "mimetype": "text/x-python",
   "name": "python",
   "nbconvert_exporter": "python",
   "pygments_lexer": "ipython3",
   "version": "3.10.9 (tags/v3.10.9:1dd9be6, Dec  6 2022, 20:01:21) [MSC v.1934 64 bit (AMD64)]"
  },
  "orig_nbformat": 4,
  "vscode": {
   "interpreter": {
    "hash": "cdb283ee32332275b742a10f3c63a7f6a18e3d881dd366cb71f19e0f898748c7"
   }
  }
 },
 "nbformat": 4,
 "nbformat_minor": 2
}
