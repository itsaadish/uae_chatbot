{
 "cells": [
  {
   "cell_type": "code",
   "execution_count": 1,
   "metadata": {},
   "outputs": [],
   "source": [
    "import requests\n",
    "from bs4 import BeautifulSoup\n",
    "import pandas as pd\n",
    "import regex as re\n",
    "from selenium import webdriver\n",
    "from selenium.webdriver.common.keys import Keys"
   ]
  },
  {
   "cell_type": "code",
   "execution_count": 2,
   "metadata": {},
   "outputs": [],
   "source": [
    "driver = webdriver.Chrome('/Users/aadis/Downloads/chromedriver')"
   ]
  },
  {
   "cell_type": "code",
   "execution_count": 32,
   "metadata": {},
   "outputs": [],
   "source": [
    "driver.get(\"https://www.headout.com/blog/best-desert-safari-dubai#1\")"
   ]
  },
  {
   "cell_type": "code",
   "execution_count": 33,
   "metadata": {},
   "outputs": [],
   "source": [
    "insidequestions = []\n",
    "inisdeanswers = []\n",
    "# for link in links:\n",
    "    # driver.get(link.get_attribute(\"href\"))\n",
    "    # print(link.get_attribute(\"href\"))\n",
    "elements = driver.find_elements_by_xpath('//div[@class=\"tve_faqI\"]')\n",
    "for elem in elements:\n",
    "    if(elem.find_element_by_class_name(\"tve_faqB\")):\n",
    "        q = elem.find_element_by_class_name(\"tve_faqB\").text\n",
    "        a = elem.find_element_by_class_name('tve_faqC').get_attribute(\"textContent\")\n",
    "        insidequestions.append(q)\n",
    "        inisdeanswers.append(a)\n"
   ]
  },
  {
   "cell_type": "code",
   "execution_count": 34,
   "metadata": {},
   "outputs": [],
   "source": [
    "data = pd.DataFrame({\"Questions\":insidequestions,\"Answers\":inisdeanswers})\n",
    "data.to_csv(\"safari.csv\")"
   ]
  },
  {
   "cell_type": "code",
   "execution_count": null,
   "metadata": {},
   "outputs": [],
   "source": []
  }
 ],
 "metadata": {
  "kernelspec": {
   "display_name": "Python 3",
   "language": "python",
   "name": "python3"
  },
  "language_info": {
   "codemirror_mode": {
    "name": "ipython",
    "version": 3
   },
   "file_extension": ".py",
   "mimetype": "text/x-python",
   "name": "python",
   "nbconvert_exporter": "python",
   "pygments_lexer": "ipython3",
   "version": "3.10.9"
  },
  "orig_nbformat": 4,
  "vscode": {
   "interpreter": {
    "hash": "cdb283ee32332275b742a10f3c63a7f6a18e3d881dd366cb71f19e0f898748c7"
   }
  }
 },
 "nbformat": 4,
 "nbformat_minor": 2
}
