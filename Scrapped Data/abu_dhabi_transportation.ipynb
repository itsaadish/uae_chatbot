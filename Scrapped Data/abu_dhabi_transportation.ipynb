{
 "cells": [
  {
   "cell_type": "code",
   "execution_count": 45,
   "metadata": {},
   "outputs": [],
   "source": [
    "from selenium.webdriver.common.by import By\n",
    "from selenium import webdriver\n",
    "from selenium.webdriver.chrome.options import Options\n",
    "import pandas as pd\n",
    "import time\n",
    "\n",
    "\n",
    "options = Options()\n",
    "options.headless = False"
   ]
  },
  {
   "cell_type": "code",
   "execution_count": null,
   "metadata": {},
   "outputs": [],
   "source": []
  },
  {
   "cell_type": "code",
   "execution_count": 46,
   "metadata": {},
   "outputs": [],
   "source": [
    "driver = webdriver.Chrome('/Users/aadis/Downloads/chromedriver',options=options)"
   ]
  },
  {
   "cell_type": "code",
   "execution_count": 47,
   "metadata": {},
   "outputs": [],
   "source": [
    "url = \"https://itc.gov.ae/en/FAQs#faqs-signaure_e=\"+\"0\"\n",
    "driver.get(url)\n",
    "driver.maximize_window()"
   ]
  },
  {
   "cell_type": "code",
   "execution_count": 48,
   "metadata": {},
   "outputs": [
    {
     "name": "stdout",
     "output_type": "stream",
     "text": [
      "8\n"
     ]
    }
   ],
   "source": [
    "pagination = driver.find_element(By.XPATH, '//ul[contains(@class, \"page-selector-list\")]')\n",
    "pages = pagination.find_elements_by_tag_name('li')\n",
    "last_page = pages[-3].text\n",
    "print(last_page)\n",
    "\n",
    "\n",
    "current_page = 1"
   ]
  },
  {
   "cell_type": "code",
   "execution_count": 49,
   "metadata": {},
   "outputs": [],
   "source": [
    "questions = []\n",
    "answers = []\n",
    "while current_page <= int(last_page):\n",
    "    time.sleep(2)\n",
    "    container = driver.find_element(By.XPATH, '//ul[contains(@class, \"search-result-list\")]')\n",
    "    data = container.find_elements_by_tag_name('li')\n",
    "\n",
    "    for elem in data:\n",
    "        questions.append(elem.find_element_by_class_name('field-question').text)\n",
    "        answers.append(elem.find_element_by_class_name('field-answer').get_attribute(\"textContent\"))\n",
    "    current_page = current_page + 1\n",
    "    try:\n",
    "        next_page = driver.find_element(By.XPATH, '//li[contains(@class, \"page-selector-item-next\")]/a')\n",
    "        next_page.click()\n",
    "    except:\n",
    "        pass\n",
    "driver.quit()"
   ]
  },
  {
   "cell_type": "code",
   "execution_count": 52,
   "metadata": {},
   "outputs": [],
   "source": [
    "data = pd.DataFrame({\"Questions\":questions,\"Answers\":answers})\n",
    "data.to_csv(\"abu_dhabi_transportation.csv\")"
   ]
  },
  {
   "cell_type": "code",
   "execution_count": 50,
   "metadata": {},
   "outputs": [
    {
     "name": "stdout",
     "output_type": "stream",
     "text": [
      "['Yes, choose FAMILY TAXI option from the app for ladies driven taxis.', 'Yes, it is available on the App. Choose History and select your trip from the list \\nand in Trip Details select “Generate Receipt”.', 'Yes. Email customerservice@itc.gov.ae with your trip details to receive an e-receipt.', 'It is not allowed to carry any pet inside the vehicle.', 'On the application, use the Fare Calculator option from the Menu. You can get an approximate fare for given pickup and drop off destinations.', 'You can view the map in different forms by changing the base map of the application. An icon to change the map view is available on the booking screen next to the search button.', 'Taxi sharing is not allowed as per ITC’s regulations.', 'The dispatch system waits for the response from the Driver before assigning him/her the booking. If there is no response from a driver, this taxi is not selected for dispatch.', 'All Abu Dhabi taxis are equipped with CCTV cameras that is streamed live to monitoring authorities. The cameras enable the monitoring authorities to monitor journeys and ensure the safety of the driver and passengers.', 'Yes, the mobile number is limited to UAE as the driver needs to contact the customer upon booking.', 'In Abu Dhabi Taxi application, use the “Tariff Details” option on the menu to learn about the tariff.', 'Yes. By using the Complaints & Suggestions option from the menu you can register a complaint.', 'Go to “Rights & Responsibilities” option from the menu in Abu Dhabi Taxi app.', 'You can report a lost item by one of the following:\\na. Contact Call Centre on 600 535353 (from outside UAE+97124186000), which operates 24 x 7 \\nb. Use the “Abu Dhabi Taxi” app and click Complaints option where you can register your Lost item complaint.\\nc. Send an email to customerservice@itc.gov.ae with all details about the missing item and the trip.', 'A detailed description of the property, being sure to note any unique attributes or identifying features. The details of taxi fare, pickup time and location, drop off time and location and any other details of your journey will help narrow down the search.', 'Yes, choose FAMILY TAXI option from the app for ladies driven taxis.', 'Yes, it is available on the App. Choose History and select your trip from the list \\nand in Trip Details select “Generate Receipt”.', 'Yes. Email customerservice@itc.gov.ae with your trip details to receive an e-receipt.', 'It is not allowed to carry any pet inside the vehicle.', 'On the application, use the Fare Calculator option from the Menu. You can get an approximate fare for given pickup and drop off destinations.', 'You can view the map in different forms by changing the base map of the application. An icon to change the map view is available on the booking screen next to the search button.', 'Taxi sharing is not allowed as per ITC’s regulations.', 'The dispatch system waits for the response from the Driver before assigning him/her the booking. If there is no response from a driver, this taxi is not selected for dispatch.', 'All Abu Dhabi taxis are equipped with CCTV cameras that is streamed live to monitoring authorities. The cameras enable the monitoring authorities to monitor journeys and ensure the safety of the driver and passengers.', 'Yes, the mobile number is limited to UAE as the driver needs to contact the customer upon booking.', 'In Abu Dhabi Taxi application, use the “Tariff Details” option on the menu to learn about the tariff.', 'Yes. By using the Complaints & Suggestions option from the menu you can register a complaint.', 'Go to “Rights & Responsibilities” option from the menu in Abu Dhabi Taxi app.', 'You can report a lost item by one of the following:\\na. Contact Call Centre on 600 535353 (from outside UAE+97124186000), which operates 24 x 7 \\nb. Use the “Abu Dhabi Taxi” app and click Complaints option where you can register your Lost item complaint.\\nc. Send an email to customerservice@itc.gov.ae with all details about the missing item and the trip.', 'A detailed description of the property, being sure to note any unique attributes or identifying features. The details of taxi fare, pickup time and location, drop off time and location and any other details of your journey will help narrow down the search.', 'Yes, choose FAMILY TAXI option from the app for ladies driven taxis.', 'Yes, it is available on the App. Choose History and select your trip from the list \\nand in Trip Details select “Generate Receipt”.', 'Yes. Email customerservice@itc.gov.ae with your trip details to receive an e-receipt.', 'It is not allowed to carry any pet inside the vehicle.', 'On the application, use the Fare Calculator option from the Menu. You can get an approximate fare for given pickup and drop off destinations.', 'You can view the map in different forms by changing the base map of the application. An icon to change the map view is available on the booking screen next to the search button.', 'Taxi sharing is not allowed as per ITC’s regulations.', 'The dispatch system waits for the response from the Driver before assigning him/her the booking. If there is no response from a driver, this taxi is not selected for dispatch.', 'All Abu Dhabi taxis are equipped with CCTV cameras that is streamed live to monitoring authorities. The cameras enable the monitoring authorities to monitor journeys and ensure the safety of the driver and passengers.', 'Yes, the mobile number is limited to UAE as the driver needs to contact the customer upon booking.', 'In Abu Dhabi Taxi application, use the “Tariff Details” option on the menu to learn about the tariff.', 'Yes. By using the Complaints & Suggestions option from the menu you can register a complaint.', 'Go to “Rights & Responsibilities” option from the menu in Abu Dhabi Taxi app.', 'You can report a lost item by one of the following:\\na. Contact Call Centre on 600 535353 (from outside UAE+97124186000), which operates 24 x 7 \\nb. Use the “Abu Dhabi Taxi” app and click Complaints option where you can register your Lost item complaint.\\nc. Send an email to customerservice@itc.gov.ae with all details about the missing item and the trip.', 'A detailed description of the property, being sure to note any unique attributes or identifying features. The details of taxi fare, pickup time and location, drop off time and location and any other details of your journey will help narrow down the search.', 'Yes, choose FAMILY TAXI option from the app for ladies driven taxis.', 'Yes, it is available on the App. Choose History and select your trip from the list \\nand in Trip Details select “Generate Receipt”.', 'Yes. Email customerservice@itc.gov.ae with your trip details to receive an e-receipt.', 'It is not allowed to carry any pet inside the vehicle.', 'On the application, use the Fare Calculator option from the Menu. You can get an approximate fare for given pickup and drop off destinations.', 'You can view the map in different forms by changing the base map of the application. An icon to change the map view is available on the booking screen next to the search button.', 'Taxi sharing is not allowed as per ITC’s regulations.', 'The dispatch system waits for the response from the Driver before assigning him/her the booking. If there is no response from a driver, this taxi is not selected for dispatch.', 'All Abu Dhabi taxis are equipped with CCTV cameras that is streamed live to monitoring authorities. The cameras enable the monitoring authorities to monitor journeys and ensure the safety of the driver and passengers.', 'Yes, the mobile number is limited to UAE as the driver needs to contact the customer upon booking.', 'In Abu Dhabi Taxi application, use the “Tariff Details” option on the menu to learn about the tariff.', 'Yes. By using the Complaints & Suggestions option from the menu you can register a complaint.', 'Go to “Rights & Responsibilities” option from the menu in Abu Dhabi Taxi app.', 'You can report a lost item by one of the following:\\na. Contact Call Centre on 600 535353 (from outside UAE+97124186000), which operates 24 x 7 \\nb. Use the “Abu Dhabi Taxi” app and click Complaints option where you can register your Lost item complaint.\\nc. Send an email to customerservice@itc.gov.ae with all details about the missing item and the trip.', 'A detailed description of the property, being sure to note any unique attributes or identifying features. The details of taxi fare, pickup time and location, drop off time and location and any other details of your journey will help narrow down the search.', 'Yes, choose FAMILY TAXI option from the app for ladies driven taxis.', 'Yes, it is available on the App. Choose History and select your trip from the list \\nand in Trip Details select “Generate Receipt”.', 'Yes. Email customerservice@itc.gov.ae with your trip details to receive an e-receipt.', 'It is not allowed to carry any pet inside the vehicle.', 'On the application, use the Fare Calculator option from the Menu. You can get an approximate fare for given pickup and drop off destinations.', 'You can view the map in different forms by changing the base map of the application. An icon to change the map view is available on the booking screen next to the search button.', 'Taxi sharing is not allowed as per ITC’s regulations.', 'The dispatch system waits for the response from the Driver before assigning him/her the booking. If there is no response from a driver, this taxi is not selected for dispatch.', 'All Abu Dhabi taxis are equipped with CCTV cameras that is streamed live to monitoring authorities. The cameras enable the monitoring authorities to monitor journeys and ensure the safety of the driver and passengers.', 'Yes, the mobile number is limited to UAE as the driver needs to contact the customer upon booking.', 'In Abu Dhabi Taxi application, use the “Tariff Details” option on the menu to learn about the tariff.', 'Yes. By using the Complaints & Suggestions option from the menu you can register a complaint.', 'Go to “Rights & Responsibilities” option from the menu in Abu Dhabi Taxi app.', 'You can report a lost item by one of the following:\\na. Contact Call Centre on 600 535353 (from outside UAE+97124186000), which operates 24 x 7 \\nb. Use the “Abu Dhabi Taxi” app and click Complaints option where you can register your Lost item complaint.\\nc. Send an email to customerservice@itc.gov.ae with all details about the missing item and the trip.', 'A detailed description of the property, being sure to note any unique attributes or identifying features. The details of taxi fare, pickup time and location, drop off time and location and any other details of your journey will help narrow down the search.', 'Yes, choose FAMILY TAXI option from the app for ladies driven taxis.', 'Yes, it is available on the App. Choose History and select your trip from the list \\nand in Trip Details select “Generate Receipt”.', 'Yes. Email customerservice@itc.gov.ae with your trip details to receive an e-receipt.', 'It is not allowed to carry any pet inside the vehicle.', 'On the application, use the Fare Calculator option from the Menu. You can get an approximate fare for given pickup and drop off destinations.', 'You can view the map in different forms by changing the base map of the application. An icon to change the map view is available on the booking screen next to the search button.', 'Taxi sharing is not allowed as per ITC’s regulations.', 'The dispatch system waits for the response from the Driver before assigning him/her the booking. If there is no response from a driver, this taxi is not selected for dispatch.', 'All Abu Dhabi taxis are equipped with CCTV cameras that is streamed live to monitoring authorities. The cameras enable the monitoring authorities to monitor journeys and ensure the safety of the driver and passengers.', 'Yes, the mobile number is limited to UAE as the driver needs to contact the customer upon booking.', 'In Abu Dhabi Taxi application, use the “Tariff Details” option on the menu to learn about the tariff.', 'Yes. By using the Complaints & Suggestions option from the menu you can register a complaint.', 'Go to “Rights & Responsibilities” option from the menu in Abu Dhabi Taxi app.', 'You can report a lost item by one of the following:\\na. Contact Call Centre on 600 535353 (from outside UAE+97124186000), which operates 24 x 7 \\nb. Use the “Abu Dhabi Taxi” app and click Complaints option where you can register your Lost item complaint.\\nc. Send an email to customerservice@itc.gov.ae with all details about the missing item and the trip.', 'A detailed description of the property, being sure to note any unique attributes or identifying features. The details of taxi fare, pickup time and location, drop off time and location and any other details of your journey will help narrow down the search.', 'Yes, choose FAMILY TAXI option from the app for ladies driven taxis.', 'Yes, it is available on the App. Choose History and select your trip from the list \\nand in Trip Details select “Generate Receipt”.', 'Yes. Email customerservice@itc.gov.ae with your trip details to receive an e-receipt.', 'It is not allowed to carry any pet inside the vehicle.', 'On the application, use the Fare Calculator option from the Menu. You can get an approximate fare for given pickup and drop off destinations.', 'You can view the map in different forms by changing the base map of the application. An icon to change the map view is available on the booking screen next to the search button.', 'Taxi sharing is not allowed as per ITC’s regulations.', 'The dispatch system waits for the response from the Driver before assigning him/her the booking. If there is no response from a driver, this taxi is not selected for dispatch.', 'All Abu Dhabi taxis are equipped with CCTV cameras that is streamed live to monitoring authorities. The cameras enable the monitoring authorities to monitor journeys and ensure the safety of the driver and passengers.', 'Yes, the mobile number is limited to UAE as the driver needs to contact the customer upon booking.', 'In Abu Dhabi Taxi application, use the “Tariff Details” option on the menu to learn about the tariff.', 'Yes. By using the Complaints & Suggestions option from the menu you can register a complaint.', 'Go to “Rights & Responsibilities” option from the menu in Abu Dhabi Taxi app.', 'You can report a lost item by one of the following:\\na. Contact Call Centre on 600 535353 (from outside UAE+97124186000), which operates 24 x 7 \\nb. Use the “Abu Dhabi Taxi” app and click Complaints option where you can register your Lost item complaint.\\nc. Send an email to customerservice@itc.gov.ae with all details about the missing item and the trip.', 'A detailed description of the property, being sure to note any unique attributes or identifying features. The details of taxi fare, pickup time and location, drop off time and location and any other details of your journey will help narrow down the search.', 'Yes, choose FAMILY TAXI option from the app for ladies driven taxis.', 'Yes, it is available on the App. Choose History and select your trip from the list \\nand in Trip Details select “Generate Receipt”.', 'Yes. Email customerservice@itc.gov.ae with your trip details to receive an e-receipt.', 'It is not allowed to carry any pet inside the vehicle.', 'On the application, use the Fare Calculator option from the Menu. You can get an approximate fare for given pickup and drop off destinations.', 'You can view the map in different forms by changing the base map of the application. An icon to change the map view is available on the booking screen next to the search button.', 'Taxi sharing is not allowed as per ITC’s regulations.', 'The dispatch system waits for the response from the Driver before assigning him/her the booking. If there is no response from a driver, this taxi is not selected for dispatch.', 'All Abu Dhabi taxis are equipped with CCTV cameras that is streamed live to monitoring authorities. The cameras enable the monitoring authorities to monitor journeys and ensure the safety of the driver and passengers.', 'Yes, the mobile number is limited to UAE as the driver needs to contact the customer upon booking.', 'In Abu Dhabi Taxi application, use the “Tariff Details” option on the menu to learn about the tariff.', 'Yes. By using the Complaints & Suggestions option from the menu you can register a complaint.', 'Go to “Rights & Responsibilities” option from the menu in Abu Dhabi Taxi app.', 'You can report a lost item by one of the following:\\na. Contact Call Centre on 600 535353 (from outside UAE+97124186000), which operates 24 x 7 \\nb. Use the “Abu Dhabi Taxi” app and click Complaints option where you can register your Lost item complaint.\\nc. Send an email to customerservice@itc.gov.ae with all details about the missing item and the trip.', 'A detailed description of the property, being sure to note any unique attributes or identifying features. The details of taxi fare, pickup time and location, drop off time and location and any other details of your journey will help narrow down the search.']\n"
     ]
    }
   ],
   "source": [
    "print(answers)"
   ]
  },
  {
   "cell_type": "code",
   "execution_count": null,
   "metadata": {},
   "outputs": [],
   "source": []
  }
 ],
 "metadata": {
  "kernelspec": {
   "display_name": "Python 3",
   "language": "python",
   "name": "python3"
  },
  "language_info": {
   "codemirror_mode": {
    "name": "ipython",
    "version": 3
   },
   "file_extension": ".py",
   "mimetype": "text/x-python",
   "name": "python",
   "nbconvert_exporter": "python",
   "pygments_lexer": "ipython3",
   "version": "3.10.9 (tags/v3.10.9:1dd9be6, Dec  6 2022, 20:01:21) [MSC v.1934 64 bit (AMD64)]"
  },
  "orig_nbformat": 4,
  "vscode": {
   "interpreter": {
    "hash": "cdb283ee32332275b742a10f3c63a7f6a18e3d881dd366cb71f19e0f898748c7"
   }
  }
 },
 "nbformat": 4,
 "nbformat_minor": 2
}
